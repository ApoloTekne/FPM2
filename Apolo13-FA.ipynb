{
  "metadata": {
    "kernelspec": {
      "name": "python",
      "display_name": "Pyolite",
      "language": "python"
    },
    "language_info": {
      "codemirror_mode": {
        "name": "python",
        "version": 3
      },
      "file_extension": ".py",
      "mimetype": "text/x-python",
      "name": "python",
      "nbconvert_exporter": "python",
      "pygments_lexer": "ipython3",
      "version": "3.8"
    }
  },
  "nbformat_minor": 4,
  "nbformat": 4,
  "cells": [
    {
      "cell_type": "markdown",
      "source": "# My Jupyter Notebook on IBM Watson Studio",
      "metadata": {
        "tags": []
      }
    },
    {
      "cell_type": "markdown",
      "source": "<b>Elías Apolo Noé Avalos Martínez</b>\n<br>IT Consultant",
      "metadata": {}
    },
    {
      "cell_type": "markdown",
      "source": "<i>I am interested in data science because I want to develop my skills to work on projects in the financial sector that are involved with data science.</i>",
      "metadata": {}
    },
    {
      "cell_type": "markdown",
      "source": "### In the next cell the factorial of 3 will be calculated:",
      "metadata": {
        "tags": []
      }
    },
    {
      "cell_type": "code",
      "source": "3*2*1",
      "metadata": {
        "tags": [],
        "trusted": true
      },
      "execution_count": 12,
      "outputs": [
        {
          "execution_count": 12,
          "output_type": "execute_result",
          "data": {
            "text/plain": "6"
          },
          "metadata": {}
        }
      ]
    },
    {
      "cell_type": "markdown",
      "source": "<center>\n    <img src=\"https://s3-api.us-geo.objectstorage.softlayer.net/cf-courses-data/CognitiveClass/Logos/organization_logo/organization_logo.png\" width=\"300\" alt=\"cognitiveclass.ai logo\"  />\n</center>\n<br>\n\n| Columna 1 | Columna 2 | Columna 3 |\n| ------ | ------ | ------ |\n| Fila 1 | Fila 1 | Fila 1 |\n| Fila 2 | Fila 2 | Fila 2 |\n| Fila 3 | Fila 3 | Fila 3 |\n| Fila 4 | Fila 4 | Fila 4 |\n\n<center>\n<a href=\"https://dataplatform.cloud.ibm.com/gallery\">IBM Cloud Gallery</a>\n</center>\n\n<ol>\n  <li>Item 1</li>\n  <li>Item 2</li>\n  ...\n  <li>Item N</li>\n</ol>\n\n",
      "metadata": {}
    }
  ]
}